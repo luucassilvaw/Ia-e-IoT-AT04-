{
  "nbformat": 4,
  "nbformat_minor": 0,
  "metadata": {
    "colab": {
      "provenance": []
    },
    "kernelspec": {
      "name": "python3",
      "display_name": "Python 3"
    },
    "language_info": {
      "name": "python"
    }
  },
  "cells": [
    {
      "cell_type": "code",
      "execution_count": 1,
      "metadata": {
        "colab": {
          "base_uri": "https://localhost:8080/",
          "height": 0
        },
        "id": "q3bdexXRB1X8",
        "outputId": "01347e2d-23a0-458c-ed18-2a84878b2843"
      },
      "outputs": [
        {
          "output_type": "stream",
          "name": "stdout",
          "text": [
            "Média: 23\n",
            "Mediana: 23.0\n",
            "Média com alias: 23\n",
            "Mediana com alias: 23.0\n",
            "Média importando funções: 23\n",
            "Mediana importando funções: 23.0\n",
            "Média com import *: 23\n",
            "Mediana com import *: 23.0\n"
          ]
        }
      ],
      "source": [
        "import statistics\n",
        "\n",
        "# Lista com 14 números em ordem crescente\n",
        "dados = [10, 12, 14, 16, 18, 20, 22, 24, 26, 28, 30, 32, 34, 36]\n",
        "\n",
        "media = statistics.mean(dados)\n",
        "mediana = statistics.median(dados)\n",
        "\n",
        "print(\"Média:\", media)\n",
        "print(\"Mediana:\", mediana)\n",
        "\n",
        "import statistics as st\n",
        "\n",
        "media = st.mean(dados)\n",
        "mediana = st.median(dados)\n",
        "\n",
        "print(\"Média com alias:\", media)\n",
        "print(\"Mediana com alias:\", mediana)\n",
        "\n",
        "from statistics import mean, median\n",
        "\n",
        "media = mean(dados)\n",
        "mediana = median(dados)\n",
        "\n",
        "print(\"Média importando funções:\", media)\n",
        "print(\"Mediana importando funções:\", mediana)\n",
        "\n",
        "from statistics import *\n",
        "\n",
        "media = mean(dados)\n",
        "mediana = median(dados)\n",
        "\n",
        "print(\"Média com import *:\", media)\n",
        "print(\"Mediana com import *:\", mediana)\n"
      ]
    }
  ]
}